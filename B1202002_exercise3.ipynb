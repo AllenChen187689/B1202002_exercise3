{
  "nbformat": 4,
  "nbformat_minor": 0,
  "metadata": {
    "colab": {
      "provenance": [],
      "authorship_tag": "ABX9TyNZB4FoQ49GJhrxRtLa4xbw",
      "include_colab_link": true
    },
    "kernelspec": {
      "name": "python3",
      "display_name": "Python 3"
    },
    "language_info": {
      "name": "python"
    }
  },
  "cells": [
    {
      "cell_type": "markdown",
      "metadata": {
        "id": "view-in-github",
        "colab_type": "text"
      },
      "source": [
        "<a href=\"https://colab.research.google.com/github/AllenChen187689/B1202002_exercise3/blob/main/B1202002_exercise3.ipynb\" target=\"_parent\"><img src=\"https://colab.research.google.com/assets/colab-badge.svg\" alt=\"Open In Colab\"/></a>"
      ]
    },
    {
      "cell_type": "code",
      "execution_count": 16,
      "metadata": {
        "colab": {
          "base_uri": "https://localhost:8080/"
        },
        "id": "17i6PeuNb2Ma",
        "outputId": "daec052e-f024-4312-a502-cffdf2b613a9"
      },
      "outputs": [
        {
          "output_type": "stream",
          "name": "stdout",
          "text": [
            "平均: 88.33333333333333\n",
            "{'姓名': '賴宏瑋', '性別': '男', '學號': 'M1129020'}\n",
            "平均: 95.0\n",
            "{'姓名': '許珈綺', '性別': '女', '學號': 'M1229001'}\n"
          ]
        }
      ],
      "source": [
        "import copy\n",
        "a={'姓名':'賴宏瑋','性別':'男','作業分數':[95,100,90]}\n",
        "b={'學號':'M1129020'}\n",
        "c={**a,**b}\n",
        "d=copy.deepcopy(c)\n",
        "c['作業分數'][1]=80\n",
        "d['姓名']='許珈綺'\n",
        "d['性別']='女'\n",
        "d['學號']='M1229001'\n",
        "f=c['作業分數'][0]+c['作業分數'][1]+c['作業分數'][2]\n",
        "q=c.pop('作業分數')\n",
        "q=f/3\n",
        "print('平均:',q)\n",
        "print(c)\n",
        "g=d['作業分數'][0]+d['作業分數'][1]+d['作業分數'][2]\n",
        "w=d.pop('作業分數')\n",
        "r=g/3\n",
        "print('平均:',r)\n",
        "print(d)"
      ]
    },
    {
      "cell_type": "code",
      "source": [
        "a=[100,50,45,60,90,95,80,50]\n",
        "a.insert(0,88)\n",
        "a[2:5]=(70,50)\n",
        "del a[3]\n",
        "x=a.pop(0)\n",
        "y=a.pop(-1)\n",
        "sum=x+y\n",
        "print(sum)"
      ],
      "metadata": {
        "colab": {
          "base_uri": "https://localhost:8080/"
        },
        "id": "WuYRVt2oeWzk",
        "outputId": "b77b671b-1a48-4040-bab8-69f38ad4b5d9"
      },
      "execution_count": 29,
      "outputs": [
        {
          "output_type": "stream",
          "name": "stdout",
          "text": [
            "138\n"
          ]
        }
      ]
    },
    {
      "cell_type": "code",
      "source": [
        "x=347//3\n",
        "y=347%3\n",
        "print('商=',x)\n",
        "print('餘數=',y)\n",
        "print(x**y)"
      ],
      "metadata": {
        "colab": {
          "base_uri": "https://localhost:8080/"
        },
        "id": "aAV7jy12eW8L",
        "outputId": "a9574b04-28bf-4112-d7b0-95e8e83619e7"
      },
      "execution_count": 34,
      "outputs": [
        {
          "output_type": "stream",
          "name": "stdout",
          "text": [
            "商= 115\n",
            "餘數= 2\n",
            "13225\n"
          ]
        }
      ]
    }
  ]
}